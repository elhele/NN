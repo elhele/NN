{
 "cells": [
  {
   "cell_type": "code",
   "execution_count": 5,
   "metadata": {
    "collapsed": false
   },
   "outputs": [
    {
     "name": "stdout",
     "output_type": "stream",
     "text": [
      "[ 0.  0.  0.]\n"
     ]
    }
   ],
   "source": [
    "from itertools import product\n",
    "\n",
    "import numpy as np\n",
    "import matplotlib.pyplot as plt\n",
    "%matplotlib inline\n",
    "from sklearn.svm import SVC\n",
    "\n",
    "Xa = np.array([[1,0],[2,0],[5,0],[6,0],[9,0],[11,0],[12,0]])\n",
    "ya = np.array([-1, -1, 1, 1, -1, -1,-1])\n",
    "\n",
    "\n",
    "X_pos = np.array([[5,0],[6,0]])\n",
    "\n",
    "d_pos = np.zeros(len(X_pos)) \n",
    "\n",
    "print d_pos\n",
    "\n",
    "fot i in range(len(X_pos)-1):\n",
    "    d()"
   ]
  },
  {
   "cell_type": "code",
   "execution_count": null,
   "metadata": {
    "collapsed": true
   },
   "outputs": [],
   "source": []
  }
 ],
 "metadata": {
  "kernelspec": {
   "display_name": "Python 2",
   "language": "python",
   "name": "python2"
  },
  "language_info": {
   "codemirror_mode": {
    "name": "ipython",
    "version": 2
   },
   "file_extension": ".py",
   "mimetype": "text/x-python",
   "name": "python",
   "nbconvert_exporter": "python",
   "pygments_lexer": "ipython2",
   "version": "2.7.11"
  }
 },
 "nbformat": 4,
 "nbformat_minor": 0
}
