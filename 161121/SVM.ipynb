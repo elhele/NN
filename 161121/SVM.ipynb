{
 "cells": [
  {
   "cell_type": "code",
   "execution_count": 3,
   "metadata": {
    "collapsed": false
   },
   "outputs": [],
   "source": [
    "import numpy as np\n",
    "import matplotlib.pyplot as plt\n",
    "%matplotlib inline\n",
    "from sklearn.svm import SVC\n",
    "import sklearn.svm as svm\n",
    "\n",
    "Xa = np.array([[1,0],[2,0],[5,0],[6,0],[9,0],[11,0],[12,0]])\n",
    "ya = np.array([-1, -1, 1, 1, -1, -1,-1])\n",
    "Xb = np.array([[1,0],[3,0],[4,0],[6,0],[7,0],[10,0],[11,0],[12,0],[14,0]])\n",
    "yb = np.array([1, -1, -1, 1, 1, -1, -1, -1, -1])\n",
    "Xc = np.array([[1,0],[2,0],[3,0],[4,0],[5,0],[9,0]]) \n",
    "yc = np.array([1,1,1,1,1,-1])"
   ]
  },
  {
   "cell_type": "code",
   "execution_count": 35,
   "metadata": {
    "collapsed": false
   },
   "outputs": [],
   "source": [
    "def classify_and_plot(X,Y, degr):\n",
    "    clf = svm.SVC(kernel='rbf', coef0 = 1, probability=True, degree = degr, gamma=2)\n",
    "    clf.fit(X, Y)\n",
    "    x_min, x_max = X[:, 0].min() - 1, X[:, 0].max() + 1\n",
    "    y_min, y_max = X[:, 1].min() - 1, X[:, 1].max() + 1\n",
    "    h = 0.1\n",
    "    x, y = np.meshgrid(np.arange(x_min, x_max, h), np.arange(y_min, y_max, h))\n",
    "    #print np.c_[xx.ravel(), yy.ravel()]\n",
    "    Z = clf.predict(np.c_[x.ravel(), y.ravel()])\n",
    "    Z = Z.reshape(x.shape)\n",
    "    print clf.support_vectors_ \n",
    "    print len(clf.support_vectors_)\n",
    "    plt.pcolormesh(x, y, Z, cmap=plt.cm.Paired)\n",
    "    plt.scatter(X[:, 0], X[:, 1], c=Y, cmap=plt.cm.Paired)\n",
    "    plt.title('SVM classification')\n",
    "    plt.axis('tight')\n",
    "    plt.grid()\n",
    "    plt.show()"
   ]
  },
  {
   "cell_type": "code",
   "execution_count": 36,
   "metadata": {
    "collapsed": false
   },
   "outputs": [
    {
     "name": "stdout",
     "output_type": "stream",
     "text": [
      "[[  1.   0.]\n",
      " [  2.   0.]\n",
      " [  9.   0.]\n",
      " [ 11.   0.]\n",
      " [ 12.   0.]\n",
      " [  5.   0.]\n",
      " [  6.   0.]]\n",
      "7\n"
     ]
    },
    {
     "data": {
      "image/png": "[encoded data removed]",
      "text/plain": [
       "<matplotlib.figure.Figure at 0x7f89d5fd4850>"
      ]
     },
     "metadata": {},
     "output_type": "display_data"
    }
   ],
   "source": [
    "classify_and_plot(Xa, ya, 2)"
   ]
  },
  {
   "cell_type": "code",
   "execution_count": 37,
   "metadata": {
    "collapsed": false
   },
   "outputs": [
    {
     "name": "stdout",
     "output_type": "stream",
     "text": [
      "[[  3.   0.]\n",
      " [  4.   0.]\n",
      " [ 10.   0.]\n",
      " [ 11.   0.]\n",
      " [ 12.   0.]\n",
      " [ 14.   0.]\n",
      " [  1.   0.]\n",
      " [  6.   0.]\n",
      " [  7.   0.]]\n",
      "9\n"
     ]
    },
    {
     "data": {
      "image/png": "[encoded data removed]",
      "text/plain": [
       "<matplotlib.figure.Figure at 0x7f89d5dc3b10>"
      ]
     },
     "metadata": {},
     "output_type": "display_data"
    }
   ],
   "source": [
    "classify_and_plot(Xb, yb, 3)"
   ]
  },
  {
   "cell_type": "code",
   "execution_count": 31,
   "metadata": {
    "collapsed": false
   },
   "outputs": [
    {
     "name": "stdout",
     "output_type": "stream",
     "text": [
      "[[ 9.  0.]\n",
      " [ 5.  0.]]\n",
      "2\n"
     ]
    },
    {
     "data": {
      "image/png": "[encoded data removed]",
      "text/plain": [
       "<matplotlib.figure.Figure at 0x7f89d5ce5850>"
      ]
     },
     "metadata": {},
     "output_type": "display_data"
    }
   ],
   "source": [
    "classify_and_plot(Xc, yc, 1)"
   ]
  },
  {
   "cell_type": "code",
   "execution_count": null,
   "metadata": {
    "collapsed": false
   },
   "outputs": [],
   "source": []
  },
  {
   "cell_type": "code",
   "execution_count": null,
   "metadata": {
    "collapsed": true
   },
   "outputs": [],
   "source": []
  }
 ],
 "metadata": {
  "kernelspec": {
   "display_name": "Python 2",
   "language": "python",
   "name": "python2"
  },
  "language_info": {
   "codemirror_mode": {
    "name": "ipython",
    "version": 2
   },
   "file_extension": ".py",
   "mimetype": "text/x-python",
   "name": "python",
   "nbconvert_exporter": "python",
   "pygments_lexer": "ipython2",
   "version": "2.7.12"
  }
 },
 "nbformat": 4,
 "nbformat_minor": 0
}
