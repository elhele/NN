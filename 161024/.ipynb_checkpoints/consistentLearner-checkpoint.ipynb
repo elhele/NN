{
 "cells": [
  {
   "cell_type": "code",
   "execution_count": 3,
   "metadata": {
    "collapsed": false
   },
   "outputs": [
    {
     "name": "stdout",
     "output_type": "stream",
     "text": [
      "[ 16.08907911  43.80163329   8.29844669  11.73835882  10.41955004\n",
      "  37.56472141  43.62246728   1.04750634   9.89767168  16.94826232\n",
      "  15.78913442   8.05975179  36.38222179  43.68746721  17.85004239\n",
      "   2.75871964   1.72708187   3.01490945   7.76548048  41.36593833\n",
      "  37.34330891  28.66834089  20.38551959  40.04283424  40.51553097\n",
      "  17.38033637  34.04917491  34.84421399  13.46612498  25.47021049\n",
      "  48.12772071   1.06988517   2.14547648  23.3453442    5.62909651\n",
      "  43.58805935  15.06717956  15.92461533  31.0817838   32.46766764\n",
      "  15.59745024  34.2079866   13.75788     42.03003463  19.62523255\n",
      "  49.84438393  12.04994359  45.41309422  38.74519567  46.96696894]\n"
     ]
    }
   ],
   "source": [
    "import numpy as np\n",
    "import random as rnd\n",
    "\n",
    "# (x_init, y_init) is the lowest left point of the rectangle\n",
    "x_init = np.zeros(50)\n",
    "y_init = np.zeros(50)\n",
    "x_len = np.zeros(50)\n",
    "y_len = np.zeros(50)\n",
    "\n",
    "for i in range(50):\n",
    "    x_init[i] = rnd.uniform(1, 50) \n",
    "    y_init[i] = rnd.uniform(1, 50) \n",
    "    x_len = rnd.uniform(1, 50) \n",
    "    y_len = rnd.uniform(1, 50)\n",
    "print x_init"
   ]
  },
  {
   "cell_type": "code",
   "execution_count": null,
   "metadata": {
    "collapsed": true
   },
   "outputs": [],
   "source": []
  }
 ],
 "metadata": {
  "kernelspec": {
   "display_name": "Python 2",
   "language": "python",
   "name": "python2"
  },
  "language_info": {
   "codemirror_mode": {
    "name": "ipython",
    "version": 2
   },
   "file_extension": ".py",
   "mimetype": "text/x-python",
   "name": "python",
   "nbconvert_exporter": "python",
   "pygments_lexer": "ipython2",
   "version": "2.7.11"
  }
 },
 "nbformat": 4,
 "nbformat_minor": 0
}
