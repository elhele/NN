{
 "cells": [
  {
   "cell_type": "code",
   "execution_count": 8,
   "metadata": {
    "collapsed": false
   },
   "outputs": [
    {
     "data": {
      "image/png": "[encoded data removed]",
      "text/plain": [
       "<matplotlib.figure.Figure at 0x7f5faba5a7d0>"
      ]
     },
     "metadata": {},
     "output_type": "display_data"
    }
   ],
   "source": [
    "#here we just draw a perceptron. The code is from http://stackoverflow.com/questions/29888233/how-to-visualize-a-neural-network/33720100\n",
    "\n",
    "from matplotlib import pyplot\n",
    "from math import cos, sin, atan\n",
    "\n",
    "%matplotlib inline\n",
    "\n",
    "class Neuron():\n",
    "    def __init__(self, x, y):\n",
    "        self.x = x\n",
    "        self.y = y\n",
    "\n",
    "    def draw(self):\n",
    "        circle = pyplot.Circle((self.x, self.y), radius=neuron_radius, fill=False)\n",
    "        pyplot.gca().add_patch(circle)\n",
    "\n",
    "\n",
    "class Layer():\n",
    "    def __init__(self, network, number_of_neurons):\n",
    "        self.previous_layer = self.__get_previous_layer(network)\n",
    "        self.y = self.__calculate_layer_y_position()\n",
    "        self.neurons = self.__intialise_neurons(number_of_neurons)\n",
    "\n",
    "    def __intialise_neurons(self, number_of_neurons):\n",
    "        neurons = []\n",
    "        x = self.__calculate_left_margin_so_layer_is_centered(number_of_neurons)\n",
    "        for iteration in xrange(number_of_neurons):\n",
    "            neuron = Neuron(x, self.y)\n",
    "            neurons.append(neuron)\n",
    "            x += horizontal_distance_between_neurons\n",
    "        return neurons\n",
    "\n",
    "    def __calculate_left_margin_so_layer_is_centered(self, number_of_neurons):\n",
    "        return horizontal_distance_between_neurons * (number_of_neurons_in_widest_layer - number_of_neurons) / 2\n",
    "\n",
    "    def __calculate_layer_y_position(self):\n",
    "        if self.previous_layer:\n",
    "            return self.previous_layer.y + vertical_distance_between_layers\n",
    "        else:\n",
    "            return 0\n",
    "\n",
    "    def __get_previous_layer(self, network):\n",
    "        if len(network.layers) > 0:\n",
    "            return network.layers[-1]\n",
    "        else:\n",
    "            return None\n",
    "\n",
    "    def __line_between_two_neurons(self, neuron1, neuron2):\n",
    "        angle = atan((neuron2.x - neuron1.x) / float(neuron2.y - neuron1.y))\n",
    "        x_adjustment = neuron_radius * sin(angle)\n",
    "        y_adjustment = neuron_radius * cos(angle)\n",
    "        line = pyplot.Line2D((neuron1.x - x_adjustment, neuron2.x + x_adjustment), (neuron1.y - y_adjustment, neuron2.y + y_adjustment))\n",
    "        pyplot.gca().add_line(line)\n",
    "\n",
    "    def draw(self):\n",
    "        for neuron in self.neurons:\n",
    "            neuron.draw()\n",
    "            if self.previous_layer:\n",
    "                for previous_layer_neuron in self.previous_layer.neurons:\n",
    "                    self.__line_between_two_neurons(neuron, previous_layer_neuron)\n",
    "\n",
    "\n",
    "class NeuralNetwork():\n",
    "    def __init__(self):\n",
    "        self.layers = []\n",
    "\n",
    "    def add_layer(self, number_of_neurons):\n",
    "        layer = Layer(self, number_of_neurons)\n",
    "        self.layers.append(layer)\n",
    "\n",
    "    def draw(self):\n",
    "        for layer in self.layers:\n",
    "            layer.draw()\n",
    "        pyplot.axis('scaled')\n",
    "        pyplot.show()\n",
    "\n",
    "if __name__ == \"__main__\":\n",
    "    vertical_distance_between_layers = 6\n",
    "    horizontal_distance_between_neurons = 4\n",
    "    neuron_radius = 0.5\n",
    "    number_of_neurons_in_widest_layer = 4\n",
    "    network = NeuralNetwork()\n",
    "    network.add_layer(2)\n",
    "    network.add_layer(2)\n",
    "    network.add_layer(1)\n",
    "    network.draw()"
   ]
  },
  {
   "cell_type": "markdown",
   "metadata": {
    "collapsed": true
   },
   "source": [
    "Multilayer Perceptron"
   ]
  },
  {
   "cell_type": "code",
   "execution_count": 2,
   "metadata": {
    "collapsed": true
   },
   "outputs": [],
   "source": [
    "import numpy as np\n",
    "import matplotlib.pyplot as plt\n",
    "%matplotlib inline"
   ]
  },
  {
   "cell_type": "code",
   "execution_count": 3,
   "metadata": {
    "collapsed": false
   },
   "outputs": [],
   "source": [
    "#XOR input and output, constants\n",
    "bias = -1\n",
    "x = np.array([[0.0,0.0,bias],[0.0,1.0,bias],[1.0,0.0,bias],[1.0,1.0,bias]])\n",
    "y = np.array([0.0,1.0,1.0,0.0])\n",
    "eta1 = 0.1\n",
    "eta2 = 0.3\n",
    "eta3 = 0.5\n",
    "eta4 = 0.9\n",
    "alpha = 0.05\n",
    "\n",
    "number_of_steps = 10000"
   ]
  },
  {
   "cell_type": "code",
   "execution_count": 4,
   "metadata": {
    "collapsed": true
   },
   "outputs": [],
   "source": [
    "#sigmoid function\n",
    "def f(x):\n",
    "    return 1/(1 + np.exp(-x))"
   ]
  },
  {
   "cell_type": "code",
   "execution_count": 5,
   "metadata": {
    "collapsed": false
   },
   "outputs": [],
   "source": [
    "def perceptron(w1, w2, u, eta):\n",
    "    dw1 = np.array([0,0,0])\n",
    "    dw2 = np.array([0,0,0])\n",
    "    du = np.array([0,0,0])\n",
    "    err = 111\n",
    "    iter = 0\n",
    "\n",
    "    while(abs(err)>0.02):\n",
    "        out = [] \n",
    "        iter += 1\n",
    "        for i in range(len(y)):\n",
    "            o_in1 = f(np.dot(x[i], w1))\n",
    "            o_in2 = f(np.dot(x[i], w2))\n",
    "            intermediate_out = np.array([o_in1, o_in2, bias])\n",
    "            o_out = f(np.dot(intermediate_out, u))\n",
    "  \n",
    "            delta_out = o_out * (y[i] - o_out) *  (1 -o_out)\n",
    "            err = y[i] - o_out\n",
    "            delta_h1 = o_in1 * (1 - o_in1) * u[0] * delta_out\n",
    "            delta_h2 = o_in2 * (1 - o_in2) * u[1] * delta_out\n",
    "            for j in range(3):\n",
    "                u[j] = alpha*du[j] + u[j] + (1 - alpha)*eta * delta_out * intermediate_out[j]\n",
    "                w1[j] = alpha*dw1[j] + w1[j] + (1 - alpha)*eta * delta_h1 * x[i][j]\n",
    "                w2[j] = alpha*dw2[j] + w2[j] + (1 - alpha)*eta * delta_h2 * x[i][j] \n",
    "                du[j] = alpha*du[j] + (1 - alpha)*eta * delta_out * intermediate_out[j]\n",
    "                dw1[j] = alpha*dw1[j] + (1 - alpha)*eta * delta_h1 * x[i][j] \n",
    "                dw2[j] = alpha*dw2[j] + (1 - alpha)*eta * delta_h2 * x[i][j] \n",
    "            out.append(o_out) \n",
    "    output = [\"%.3f\" % element for element in out]\n",
    "    weights = np.array([w1, w2, u])\n",
    "    print \"iterations\"\n",
    "    print iter\n",
    "    return output, weights"
   ]
  },
  {
   "cell_type": "code",
   "execution_count": 6,
   "metadata": {
    "collapsed": true
   },
   "outputs": [],
   "source": [
    "def classify(x,w1,w2,u):\n",
    "    x = np.append(x,-1)\n",
    "    o_in1 = f(np.dot(x, w1))\n",
    "    o_in2 = f(np.dot(x, w2))\n",
    "    intermediate_out = np.array([o_in1, o_in2, -1])\n",
    "    o_out = f(np.dot(intermediate_out, u))\n",
    "    return o_out"
   ]
  },
  {
   "cell_type": "code",
   "execution_count": 8,
   "metadata": {
    "collapsed": false
   },
   "outputs": [
    {
     "name": "stdout",
     "output_type": "stream",
     "text": [
      "eta1\n",
      "iterations\n",
      "82952\n",
      "['0.019', '0.983', '0.983', '0.020']\n",
      "iterations\n",
      "1\n"
     ]
    },
    {
     "data": {
      "image/png": "[encoded data removed]",
      "text/plain": [
       "<matplotlib.figure.Figure at 0x7f9ad6a99dd0>"
      ]
     },
     "metadata": {},
     "output_type": "display_data"
    },
    {
     "name": "stdout",
     "output_type": "stream",
     "text": [
      "weights\n",
      "[[ -5.47231624  -5.47062552  -8.19519136]\n",
      " [  7.34464908   7.33642842   3.31908347]\n",
      " [  9.25269482   9.05297113  13.50194418]]\n",
      "eta3\n",
      "iterations\n",
      "1\n",
      "['0.019', '0.983', '0.983', '0.020']\n",
      "iterations\n",
      "12\n"
     ]
    },
    {
     "data": {
      "image/png": "[encoded data removed]",
      "text/plain": [
       "<matplotlib.figure.Figure at 0x7f9ad448fd90>"
      ]
     },
     "metadata": {},
     "output_type": "display_data"
    },
    {
     "name": "stdout",
     "output_type": "stream",
     "text": [
      "weights\n",
      "[[ -5.47265489  -5.47096409  -8.19569888]\n",
      " [  7.34489707   7.33667878   3.3192212 ]\n",
      " [  9.25346153   9.05375453  13.50311745]]\n"
     ]
    }
   ],
   "source": [
    "from matplotlib import pyplot\n",
    "from math import cos, sin, atan\n",
    "\n",
    "%matplotlib inline\n",
    "\n",
    "points_to_classify = np.zeros([11,11,2])\n",
    "\n",
    "for i in range(11):\n",
    "    for j in range(11):\n",
    "        points_to_classify[i][j][0] = i / 10.0\n",
    "        points_to_classify[i][j][1] = j / 10.0\n",
    "\n",
    "points_to_draw = np.zeros([11,11])\n",
    "\n",
    "\n",
    "# random initial weights, 3 - because of the bias\n",
    "\n",
    "w1_rnd = np.array([np.random.random() for i in range(3)])\n",
    "w2_rnd = np.array([np.random.random() for i in range(3)])\n",
    "u_rnd = np.array([np.random.random() for i in range(3)])\n",
    "\n",
    "ones_arr = np.array(points_to_classify[1][0])\n",
    "zeros_arr = np.array(points_to_classify[0][0])\n",
    "\n",
    "print \"eta1\"\n",
    "print perceptron(w1_rnd, w2_rnd, u_rnd, eta1)[0]\n",
    "weights = perceptron(w1_rnd, w2_rnd, u_rnd, eta1)[1]\n",
    "for i in range(11):\n",
    "    for j in range(11):\n",
    "        if classify(points_to_classify[i][j],weights[0],weights[1],weights[2]) > 0.5:\n",
    "            ones_arr = np.column_stack((ones_arr, points_to_classify[i][j]))\n",
    "        else:\n",
    "            zeros_arr = np.column_stack((zeros_arr, points_to_classify[i][j]))\n",
    "plt.plot(zeros_arr[0], zeros_arr[1], 'bo', ones_arr[0], ones_arr[1], 'ro')\n",
    "plt.show()\n",
    "\n",
    "print \"weights\"\n",
    "print weights\n",
    "\n",
    "#print \"eta2\"\n",
    "\n",
    "#for i in range(11):\n",
    "#    for j in range(11):\n",
    "#        if classify(points_to_classify[i][j],weights[0],weights[1],weights[2]) > 0.5:\n",
    "#            ones_arr = np.column_stack((ones_arr, points_to_classify[i][j]))\n",
    "#        else:\n",
    "#            zeros_arr = np.column_stack((zeros_arr, points_to_classify[i][j]))\n",
    "#plt.plot(zeros_arr[0], zeros_arr[1], 'bo', ones_arr[0], ones_arr[1], 'ro')\n",
    "#plt.show()\n",
    "\n",
    "\n",
    "print \"eta3\"\n",
    "print perceptron(w1_rnd, w2_rnd, u_rnd, eta1)[0]\n",
    "weights = perceptron(w1_rnd, w2_rnd, u_rnd, eta3)[1]\n",
    "for i in range(10):\n",
    "    for j in range(10):\n",
    "        if classify(points_to_classify[i][j],weights[0],weights[1],weights[2]) > 0.5:\n",
    "            ones_arr = np.column_stack((ones_arr, points_to_classify[i][j]))\n",
    "        else:\n",
    "            zeros_arr = np.column_stack((zeros_arr, points_to_classify[i][j]))\n",
    "plt.plot(zeros_arr[0], zeros_arr[1], 'bo', ones_arr[0], ones_arr[1], 'ro')\n",
    "plt.show()\n",
    "\n",
    "print \"weights\"\n",
    "print weights\n",
    "\n",
    "#print \"eta4\"\n",
    "#print perceptron(w1_rnd, w2_rnd, u_rnd, eta4)[0]\n",
    "#for i in range(10):\n",
    "#    for j in range(10):\n",
    "#        if classify(points_to_classify[i][j],weights[0],weights[1],weights[2]) > 0.5:\n",
    "#            points_to_draw[i][j] = 1\n",
    "#        else:\n",
    "#            points_to_draw[i][j] = 0\n",
    "#print points_to_draw\n",
    "\n",
    "\n"
   ]
  },
  {
   "cell_type": "code",
   "execution_count": null,
   "metadata": {
    "collapsed": true
   },
   "outputs": [],
   "source": []
  },
  {
   "cell_type": "code",
   "execution_count": 427,
   "metadata": {
    "collapsed": false
   },
   "outputs": [
    {
     "name": "stdout",
     "output_type": "stream",
     "text": [
      "eta1\n"
     ]
    },
    {
     "ename": "KeyboardInterrupt",
     "evalue": "",
     "output_type": "error",
     "traceback": [
      "\u001b[1;31m---------------------------------------------------------------------------\u001b[0m",
      "\u001b[1;31mKeyboardInterrupt\u001b[0m                         Traceback (most recent call last)",
      "\u001b[1;32m<ipython-input-427-2c50e37ec1c8>\u001b[0m in \u001b[0;36m<module>\u001b[1;34m()\u001b[0m\n\u001b[0;32m      5\u001b[0m \u001b[1;33m\u001b[0m\u001b[0m\n\u001b[0;32m      6\u001b[0m \u001b[1;32mprint\u001b[0m \u001b[1;34m\"eta1\"\u001b[0m\u001b[1;33m\u001b[0m\u001b[0m\n\u001b[1;32m----> 7\u001b[1;33m \u001b[1;32mprint\u001b[0m \u001b[0mperceptron\u001b[0m\u001b[1;33m(\u001b[0m\u001b[0mw1_zero\u001b[0m\u001b[1;33m,\u001b[0m \u001b[0mw2_zero\u001b[0m\u001b[1;33m,\u001b[0m \u001b[0mu_zero\u001b[0m\u001b[1;33m,\u001b[0m \u001b[0meta1\u001b[0m\u001b[1;33m)\u001b[0m\u001b[1;33m\u001b[0m\u001b[0m\n\u001b[0m\u001b[0;32m      8\u001b[0m \u001b[1;32mprint\u001b[0m \u001b[1;34m\"eta2\"\u001b[0m\u001b[1;33m\u001b[0m\u001b[0m\n\u001b[0;32m      9\u001b[0m \u001b[1;32mprint\u001b[0m \u001b[0mperceptron\u001b[0m\u001b[1;33m(\u001b[0m\u001b[0mw1_zero\u001b[0m\u001b[1;33m,\u001b[0m \u001b[0mw2_zero\u001b[0m\u001b[1;33m,\u001b[0m \u001b[0mu_zero\u001b[0m\u001b[1;33m,\u001b[0m \u001b[0meta2\u001b[0m\u001b[1;33m)\u001b[0m\u001b[1;33m\u001b[0m\u001b[0m\n",
      "\u001b[1;32m<ipython-input-421-763e7b5f6fb0>\u001b[0m in \u001b[0;36mperceptron\u001b[1;34m(w1, w2, u, eta)\u001b[0m\n\u001b[0;32m     20\u001b[0m             \u001b[0mdelta_h2\u001b[0m \u001b[1;33m=\u001b[0m \u001b[0mo_in2\u001b[0m \u001b[1;33m*\u001b[0m \u001b[1;33m(\u001b[0m\u001b[1;36m1\u001b[0m \u001b[1;33m-\u001b[0m \u001b[0mo_in2\u001b[0m\u001b[1;33m)\u001b[0m \u001b[1;33m*\u001b[0m \u001b[0mu\u001b[0m\u001b[1;33m[\u001b[0m\u001b[1;36m1\u001b[0m\u001b[1;33m]\u001b[0m \u001b[1;33m*\u001b[0m \u001b[0mdelta_out\u001b[0m\u001b[1;33m\u001b[0m\u001b[0m\n\u001b[0;32m     21\u001b[0m             \u001b[1;32mfor\u001b[0m \u001b[0mj\u001b[0m \u001b[1;32min\u001b[0m \u001b[0mrange\u001b[0m\u001b[1;33m(\u001b[0m\u001b[1;36m3\u001b[0m\u001b[1;33m)\u001b[0m\u001b[1;33m:\u001b[0m\u001b[1;33m\u001b[0m\u001b[0m\n\u001b[1;32m---> 22\u001b[1;33m                 \u001b[0mu\u001b[0m\u001b[1;33m[\u001b[0m\u001b[0mj\u001b[0m\u001b[1;33m]\u001b[0m \u001b[1;33m=\u001b[0m \u001b[0malpha\u001b[0m\u001b[1;33m*\u001b[0m\u001b[0mdu\u001b[0m\u001b[1;33m[\u001b[0m\u001b[0mj\u001b[0m\u001b[1;33m]\u001b[0m \u001b[1;33m+\u001b[0m \u001b[0mu\u001b[0m\u001b[1;33m[\u001b[0m\u001b[0mj\u001b[0m\u001b[1;33m]\u001b[0m \u001b[1;33m+\u001b[0m \u001b[1;33m(\u001b[0m\u001b[1;36m1\u001b[0m \u001b[1;33m-\u001b[0m \u001b[0malpha\u001b[0m\u001b[1;33m)\u001b[0m\u001b[1;33m*\u001b[0m\u001b[0meta\u001b[0m \u001b[1;33m*\u001b[0m \u001b[0mdelta_out\u001b[0m \u001b[1;33m*\u001b[0m \u001b[0mintermediate_out\u001b[0m\u001b[1;33m[\u001b[0m\u001b[0mj\u001b[0m\u001b[1;33m]\u001b[0m\u001b[1;33m\u001b[0m\u001b[0m\n\u001b[0m\u001b[0;32m     23\u001b[0m                 \u001b[0mw1\u001b[0m\u001b[1;33m[\u001b[0m\u001b[0mj\u001b[0m\u001b[1;33m]\u001b[0m \u001b[1;33m=\u001b[0m \u001b[0malpha\u001b[0m\u001b[1;33m*\u001b[0m\u001b[0mdw1\u001b[0m\u001b[1;33m[\u001b[0m\u001b[0mj\u001b[0m\u001b[1;33m]\u001b[0m \u001b[1;33m+\u001b[0m \u001b[0mw1\u001b[0m\u001b[1;33m[\u001b[0m\u001b[0mj\u001b[0m\u001b[1;33m]\u001b[0m \u001b[1;33m+\u001b[0m \u001b[1;33m(\u001b[0m\u001b[1;36m1\u001b[0m \u001b[1;33m-\u001b[0m \u001b[0malpha\u001b[0m\u001b[1;33m)\u001b[0m\u001b[1;33m*\u001b[0m\u001b[0meta\u001b[0m \u001b[1;33m*\u001b[0m \u001b[0mdelta_h1\u001b[0m \u001b[1;33m*\u001b[0m \u001b[0mx\u001b[0m\u001b[1;33m[\u001b[0m\u001b[0mi\u001b[0m\u001b[1;33m]\u001b[0m\u001b[1;33m[\u001b[0m\u001b[0mj\u001b[0m\u001b[1;33m]\u001b[0m\u001b[1;33m\u001b[0m\u001b[0m\n\u001b[0;32m     24\u001b[0m                 \u001b[0mw2\u001b[0m\u001b[1;33m[\u001b[0m\u001b[0mj\u001b[0m\u001b[1;33m]\u001b[0m \u001b[1;33m=\u001b[0m \u001b[0malpha\u001b[0m\u001b[1;33m*\u001b[0m\u001b[0mdw2\u001b[0m\u001b[1;33m[\u001b[0m\u001b[0mj\u001b[0m\u001b[1;33m]\u001b[0m \u001b[1;33m+\u001b[0m \u001b[0mw2\u001b[0m\u001b[1;33m[\u001b[0m\u001b[0mj\u001b[0m\u001b[1;33m]\u001b[0m \u001b[1;33m+\u001b[0m \u001b[1;33m(\u001b[0m\u001b[1;36m1\u001b[0m \u001b[1;33m-\u001b[0m \u001b[0malpha\u001b[0m\u001b[1;33m)\u001b[0m\u001b[1;33m*\u001b[0m\u001b[0meta\u001b[0m \u001b[1;33m*\u001b[0m \u001b[0mdelta_h2\u001b[0m \u001b[1;33m*\u001b[0m \u001b[0mx\u001b[0m\u001b[1;33m[\u001b[0m\u001b[0mi\u001b[0m\u001b[1;33m]\u001b[0m\u001b[1;33m[\u001b[0m\u001b[0mj\u001b[0m\u001b[1;33m]\u001b[0m\u001b[1;33m\u001b[0m\u001b[0m\n",
      "\u001b[1;31mKeyboardInterrupt\u001b[0m: "
     ]
    }
   ],
   "source": [
    "# zero initial weights\n",
    "w1_zero = np.array([0,0,0])\n",
    "w2_zero = np.array([0,0,0])\n",
    "u_zero = np.array([0,0,0])\n",
    "\n",
    "print \"eta1\"\n",
    "print perceptron(w1_zero, w2_zero, u_zero, eta1)\n",
    "print \"eta2\"\n",
    "print perceptron(w1_zero, w2_zero, u_zero, eta2)\n",
    "print \"eta3\"\n",
    "print perceptron(w1_zero, w2_zero, u_zero, eta3)\n",
    "print \"eta4\"\n",
    "print perceptron(w1_zero, w2_zero, u_zero, eta4)"
   ]
  }
 ],
 "metadata": {
  "kernelspec": {
   "display_name": "Python 2",
   "language": "python",
   "name": "python2"
  },
  "language_info": {
   "codemirror_mode": {
    "name": "ipython",
    "version": 2
   },
   "file_extension": ".py",
   "mimetype": "text/x-python",
   "name": "python",
   "nbconvert_exporter": "python",
   "pygments_lexer": "ipython2",
   "version": "2.7.11"
  }
 },
 "nbformat": 4,
 "nbformat_minor": 0
}
